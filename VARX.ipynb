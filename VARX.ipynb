{
 "cells": [
  {
   "cell_type": "code",
   "execution_count": 1,
   "id": "dee5f2b9",
   "metadata": {},
   "outputs": [],
   "source": [
    "import pandas as pd\n",
    "import numpy as np\n",
    "import matplotlib.pyplot as plt\n",
    "%matplotlib inline\n",
    "\n",
    "# Import Statsmodels\n",
    "from statsmodels.tsa.api import VAR\n",
    "from statsmodels.tsa.stattools import adfuller\n",
    "from statsmodels.tools.eval_measures import rmse, aic\n",
    "from sklearn.metrics import mean_absolute_percentage_error as mape"
   ]
  },
  {
   "cell_type": "code",
   "execution_count": 2,
   "id": "88774177",
   "metadata": {},
   "outputs": [],
   "source": [
    "n_pred_t = 5"
   ]
  },
  {
   "cell_type": "code",
   "execution_count": 3,
   "id": "70373157",
   "metadata": {},
   "outputs": [],
   "source": [
    "def mase(y_true, y_pred):\n",
    "    n_samples = len(y_true)\n",
    "    diff = np.abs(np.diff(y_true))  # 计算分母\n",
    "    scale = np.sum(diff) / (n_samples - 1)\n",
    "    error = np.abs(y_true - y_pred) # 计算分子\n",
    "    mase = np.mean(error / scale)\n",
    "    return mase"
   ]
  },
  {
   "cell_type": "code",
   "execution_count": 4,
   "id": "3d821ae6",
   "metadata": {},
   "outputs": [],
   "source": [
    "df = pd.read_csv(\"China_tourist.csv\",encoding = 'utf-8',usecols=['time','Japan', 'Korea', 'Singapore','出境游'])\n",
    "col = df.columns\n",
    "time = df.iloc[:,0]"
   ]
  },
  {
   "cell_type": "code",
   "execution_count": 5,
   "id": "23b41f95",
   "metadata": {},
   "outputs": [],
   "source": [
    "df.出境游 =[12.58801072, 15.94186903, 14.12392481, 10.77129966, 12.98798976,\n",
    "       14.65532027, 16.71567184, 16.91461645, 15.14439181, 13.76879549,\n",
    "       13.85497123, 14.17556064, 14.57302275, 13.84585365, 15.74285615,\n",
    "       14.72574786, 14.92740008, 15.79515993, 16.42627757, 16.33169033,\n",
    "       14.47822046, 14.23553347, 14.02198903, 14.38812131, 13.89046825,\n",
    "       14.87659086, 15.65035524, 14.99816637, 14.74728945, 15.57458648,\n",
    "       15.8868293 , 15.54038165, 13.27676353, 12.37191989, 12.33090131,\n",
    "       12.49814567, 11.08444987,  8.76364472,  6.95113917,  4.97812542,\n",
    "        3.97042339,  3.89424768,  3.60294413,  3.58219753,  2.9175151 ,\n",
    "        2.98820059,  3.04431712,  3.14921897,  2.3728255 ,  2.57593706,\n",
    "        2.96124693,  2.4611323 ,  1.83105417,  1.61948817,  1.90949814,\n",
    "        1.63693581,  1.2136655 ,  1.13287022,  1.3225591 ,  0.8986272 ,\n",
    "        0.79444609,  1.69685212,  1.59643327,  1.94836067,  2.04393939,\n",
    "        1.42456502,  1.53760031,  1.21367606,  1.0001705 ,  1.15304488,\n",
    "        1.12908332,  1.28249738,  2.34787776]"
   ]
  },
  {
   "cell_type": "code",
   "execution_count": 6,
   "id": "11bdf3fb",
   "metadata": {},
   "outputs": [],
   "source": [
    "# 标准化\n",
    "from sklearn import preprocessing\n",
    "scaler = preprocessing.StandardScaler()\n",
    "df = scaler.fit_transform(df.iloc[:,1:])\n",
    "df = pd.DataFrame(df)\n",
    "df.columns=col[1:]\n",
    "df['time'] = time"
   ]
  },
  {
   "cell_type": "code",
   "execution_count": 7,
   "id": "6d65c2f3",
   "metadata": {},
   "outputs": [],
   "source": [
    "# 出境游平稳化\n",
    "def adfuller_test(series, signif=0.05, name='', verbose=False):\n",
    "    \"\"\"Perform ADFuller to test for Stationarity of given series and print report\"\"\"\n",
    "    r = adfuller(series, autolag='AIC')\n",
    "    output = {'test_statistic':round(r[0], 4), 'pvalue':round(r[1], 4), 'n_lags':round(r[2], 4), 'n_obs':r[3]}\n",
    "    p_value = output['pvalue'] \n",
    "    def adjust(val, length= 6): return str(val).ljust(length)\n",
    "\n",
    "    # Print Summary\n",
    "    print(f'    Augmented Dickey-Fuller Test on \"{name}\"', \"\\n   \", '-'*47)\n",
    "    print(f' Null Hypothesis: Data has unit root. Non-Stationary.')\n",
    "    print(f' Significance Level    = {signif}')\n",
    "    print(f' Test Statistic        = {output[\"test_statistic\"]}')\n",
    "    print(f' No. Lags Chosen       = {output[\"n_lags\"]}')\n",
    "\n",
    "    for key,val in r[4].items():\n",
    "        print(f' Critical value {adjust(key)} = {round(val, 3)}')\n",
    "\n",
    "    if p_value <= signif:\n",
    "        print(f\" => P-Value = {p_value}. Rejecting Null Hypothesis.\")\n",
    "        print(f\" => Series is Stationary.\")\n",
    "    else:\n",
    "        print(f\" => P-Value = {p_value}. Weak evidence to reject the Null Hypothesis.\")\n",
    "        print(f\" => Series is Non-Stationary.\")    "
   ]
  },
  {
   "cell_type": "code",
   "execution_count": 8,
   "id": "05b61d93",
   "metadata": {},
   "outputs": [],
   "source": [
    "begin = 36 # 202001\n",
    "end = 60 # 202201\n",
    "yuce = 68 # 202209"
   ]
  },
  {
   "cell_type": "code",
   "execution_count": 9,
   "id": "a21d3fe8",
   "metadata": {},
   "outputs": [],
   "source": [
    "df[\"出境游差分\"] = df.iloc[:,3:4].diff().fillna(0)"
   ]
  },
  {
   "cell_type": "code",
   "execution_count": 10,
   "id": "5d2e1845",
   "metadata": {},
   "outputs": [
    {
     "name": "stdout",
     "output_type": "stream",
     "text": [
      "    Augmented Dickey-Fuller Test on \"出境游差分\" \n",
      "    -----------------------------------------------\n",
      " Null Hypothesis: Data has unit root. Non-Stationary.\n",
      " Significance Level    = 0.05\n",
      " Test Statistic        = -7.0018\n",
      " No. Lags Chosen       = 0\n",
      " Critical value 1%     = -3.525\n",
      " Critical value 5%     = -2.903\n",
      " Critical value 10%    = -2.589\n",
      " => P-Value = 0.0. Rejecting Null Hypothesis.\n",
      " => Series is Stationary.\n"
     ]
    }
   ],
   "source": [
    "adfuller_test(df.出境游差分, name=\"出境游差分\")"
   ]
  },
  {
   "cell_type": "code",
   "execution_count": 11,
   "id": "9cb6b95c",
   "metadata": {},
   "outputs": [
    {
     "name": "stdout",
     "output_type": "stream",
     "text": [
      "    Augmented Dickey-Fuller Test on \"Japan差分\" \n",
      "    -----------------------------------------------\n",
      " Null Hypothesis: Data has unit root. Non-Stationary.\n",
      " Significance Level    = 0.05\n",
      " Test Statistic        = -9.1925\n",
      " No. Lags Chosen       = 0\n",
      " Critical value 1%     = -3.525\n",
      " Critical value 5%     = -2.903\n",
      " Critical value 10%    = -2.589\n",
      " => P-Value = 0.0. Rejecting Null Hypothesis.\n",
      " => Series is Stationary.\n"
     ]
    }
   ],
   "source": [
    "df[\"Japan差分\"] = df.iloc[:,0:1].diff().fillna(0)\n",
    "adfuller_test(df.Japan差分, name=\"Japan差分\")"
   ]
  },
  {
   "cell_type": "code",
   "execution_count": 12,
   "id": "ccc26b5b",
   "metadata": {},
   "outputs": [
    {
     "name": "stdout",
     "output_type": "stream",
     "text": [
      "    Augmented Dickey-Fuller Test on \"Korea差分\" \n",
      "    -----------------------------------------------\n",
      " Null Hypothesis: Data has unit root. Non-Stationary.\n",
      " Significance Level    = 0.05\n",
      " Test Statistic        = -6.9856\n",
      " No. Lags Chosen       = 0\n",
      " Critical value 1%     = -3.525\n",
      " Critical value 5%     = -2.903\n",
      " Critical value 10%    = -2.589\n",
      " => P-Value = 0.0. Rejecting Null Hypothesis.\n",
      " => Series is Stationary.\n"
     ]
    }
   ],
   "source": [
    "df[\"Korea差分\"] = df.iloc[:,1:2].diff().fillna(0)\n",
    "adfuller_test(df.Korea差分, name=\"Korea差分\")"
   ]
  },
  {
   "cell_type": "code",
   "execution_count": 13,
   "id": "37cdcf93",
   "metadata": {},
   "outputs": [
    {
     "name": "stdout",
     "output_type": "stream",
     "text": [
      "    Augmented Dickey-Fuller Test on \"Singapore差分\" \n",
      "    -----------------------------------------------\n",
      " Null Hypothesis: Data has unit root. Non-Stationary.\n",
      " Significance Level    = 0.05\n",
      " Test Statistic        = -3.0768\n",
      " No. Lags Chosen       = 5\n",
      " Critical value 1%     = -3.532\n",
      " Critical value 5%     = -2.906\n",
      " Critical value 10%    = -2.59\n",
      " => P-Value = 0.0283. Rejecting Null Hypothesis.\n",
      " => Series is Stationary.\n"
     ]
    }
   ],
   "source": [
    "df[\"Singapore差分\"] = df.iloc[:,2:3].diff().fillna(0)\n",
    "adfuller_test(df.Singapore差分, name=\"Singapore差分\")"
   ]
  },
  {
   "cell_type": "code",
   "execution_count": 14,
   "id": "60c194db",
   "metadata": {},
   "outputs": [],
   "source": [
    "df['x1'] = np.nan\n",
    "df['x2'] = np.nan\n",
    "df['x3'] = np.nan"
   ]
  },
  {
   "cell_type": "code",
   "execution_count": 15,
   "id": "762b2e98",
   "metadata": {},
   "outputs": [
    {
     "name": "stderr",
     "output_type": "stream",
     "text": [
      "C:\\Users\\Lenovo\\AppData\\Local\\Temp\\ipykernel_3432\\3611221463.py:13: SettingWithCopyWarning: \n",
      "A value is trying to be set on a copy of a slice from a DataFrame\n",
      "\n",
      "See the caveats in the documentation: https://pandas.pydata.org/pandas-docs/stable/user_guide/indexing.html#returning-a-view-versus-a-copy\n",
      "  df.x1.iloc[:begin] = train\n",
      "C:\\Users\\Lenovo\\AppData\\Local\\Temp\\ipykernel_3432\\3611221463.py:14: SettingWithCopyWarning: \n",
      "A value is trying to be set on a copy of a slice from a DataFrame\n",
      "\n",
      "See the caveats in the documentation: https://pandas.pydata.org/pandas-docs/stable/user_guide/indexing.html#returning-a-view-versus-a-copy\n",
      "  df.x1.iloc[begin:] = forecast_x1\n"
     ]
    }
   ],
   "source": [
    "from skforecast.ForecasterAutoreg import ForecasterAutoreg\n",
    "import xgboost as xgb\n",
    "forecaster = ForecasterAutoreg(\n",
    "                regressor = xgb.XGBRegressor(),\n",
    "                lags      = 9\n",
    "             )\n",
    "train = df.出境游差分.iloc[0:begin]\n",
    "\n",
    "forecaster.fit(train)\n",
    "steps = len(df.iloc[begin:,])\n",
    "forecast_x1 = forecaster.predict(steps=steps)\n",
    "#forecast_x1\n",
    "df.x1.iloc[:begin] = train\n",
    "df.x1.iloc[begin:] = forecast_x1"
   ]
  },
  {
   "cell_type": "code",
   "execution_count": 16,
   "id": "240f5ae1",
   "metadata": {},
   "outputs": [
    {
     "name": "stderr",
     "output_type": "stream",
     "text": [
      "C:\\Users\\Lenovo\\AppData\\Local\\Temp\\ipykernel_3432\\1804543268.py:6: SettingWithCopyWarning: \n",
      "A value is trying to be set on a copy of a slice from a DataFrame\n",
      "\n",
      "See the caveats in the documentation: https://pandas.pydata.org/pandas-docs/stable/user_guide/indexing.html#returning-a-view-versus-a-copy\n",
      "  df.x2.iloc[begin:end] = train\n",
      "C:\\Users\\Lenovo\\AppData\\Local\\Temp\\ipykernel_3432\\1804543268.py:7: SettingWithCopyWarning: \n",
      "A value is trying to be set on a copy of a slice from a DataFrame\n",
      "\n",
      "See the caveats in the documentation: https://pandas.pydata.org/pandas-docs/stable/user_guide/indexing.html#returning-a-view-versus-a-copy\n",
      "  df.x2.iloc[end:] = forecast_x2\n"
     ]
    }
   ],
   "source": [
    "# 再把x2后面的值给预测了\n",
    "train = df.出境游差分.iloc[begin:end]\n",
    "forecaster.fit(train)\n",
    "steps = len(df.iloc[end:,])\n",
    "forecast_x2 = forecaster.predict(steps=steps)\n",
    "df.x2.iloc[begin:end] = train\n",
    "df.x2.iloc[end:] = forecast_x2"
   ]
  },
  {
   "cell_type": "code",
   "execution_count": 17,
   "id": "a0d7fc09",
   "metadata": {},
   "outputs": [
    {
     "name": "stderr",
     "output_type": "stream",
     "text": [
      "C:\\Users\\Lenovo\\AppData\\Local\\Temp\\ipykernel_3432\\2915715758.py:1: SettingWithCopyWarning: \n",
      "A value is trying to be set on a copy of a slice from a DataFrame\n",
      "\n",
      "See the caveats in the documentation: https://pandas.pydata.org/pandas-docs/stable/user_guide/indexing.html#returning-a-view-versus-a-copy\n",
      "  df.x3.iloc[end:] = df.出境游差分.iloc[end:]\n"
     ]
    }
   ],
   "source": [
    "df.x3.iloc[end:] = df.出境游差分.iloc[end:]"
   ]
  },
  {
   "cell_type": "code",
   "execution_count": 18,
   "id": "6bf489cb",
   "metadata": {},
   "outputs": [],
   "source": [
    "# 开始建模"
   ]
  },
  {
   "cell_type": "code",
   "execution_count": 19,
   "id": "1dc99c1e",
   "metadata": {},
   "outputs": [],
   "source": [
    "import statsmodels.api as sm\n",
    "df_y = df[['Japan差分','Korea差分','Singapore差分']]\n",
    "mod1 = sm.tsa.VARMAX(df_y.iloc[:begin,0:3], order=(1,0), trend='n', exog=df.x1.iloc[:begin,])\n",
    "res1 = mod1.fit()"
   ]
  },
  {
   "cell_type": "code",
   "execution_count": 20,
   "id": "e1857643",
   "metadata": {},
   "outputs": [
    {
     "name": "stderr",
     "output_type": "stream",
     "text": [
      "D:\\Users\\Lenovo\\anaconda3\\lib\\site-packages\\statsmodels\\base\\model.py:604: ConvergenceWarning: Maximum Likelihood optimization failed to converge. Check mle_retvals\n",
      "  warnings.warn(\"Maximum Likelihood optimization failed to \"\n"
     ]
    }
   ],
   "source": [
    "mod2 = sm.tsa.VARMAX(df_y.iloc[begin:end,0:3], order=(1,0), trend='n', exog=df.x2.iloc[begin:end,])\n",
    "res2 = mod2.fit()"
   ]
  },
  {
   "cell_type": "markdown",
   "id": "e5a1592b",
   "metadata": {},
   "source": [
    "# 三阶段"
   ]
  },
  {
   "cell_type": "code",
   "execution_count": 21,
   "id": "b1312b21",
   "metadata": {},
   "outputs": [
    {
     "name": "stderr",
     "output_type": "stream",
     "text": [
      "D:\\Users\\Lenovo\\anaconda3\\lib\\site-packages\\statsmodels\\base\\model.py:604: ConvergenceWarning: Maximum Likelihood optimization failed to converge. Check mle_retvals\n",
      "  warnings.warn(\"Maximum Likelihood optimization failed to \"\n"
     ]
    }
   ],
   "source": [
    "mod3 = sm.tsa.VARMAX(df_y.iloc[end:yuce,0:3], order=(1,0),exog=df.x3.iloc[end:yuce,])\n",
    "res3 = mod3.fit()\n",
    "y_pred33 = res3.predict()\n",
    "y_pred4 = res3.forecast(n_pred_t,exog=df.x3.iloc[yuce:yuce+n_pred_t])"
   ]
  },
  {
   "cell_type": "code",
   "execution_count": 22,
   "id": "a41a8310",
   "metadata": {},
   "outputs": [],
   "source": [
    "y_true = df_y.iloc[yuce:yuce+n_pred_t,1]\n",
    "y_pred = y_pred4.iloc[:,1]\n",
    "\n",
    "df1 = pd.DataFrame([rmse(y_true,y_pred),mape(y_true,y_pred),mase(y_true,y_pred)],index = ['RMSE','MAPE','MASE'],columns = ['未组合'])"
   ]
  },
  {
   "cell_type": "code",
   "execution_count": 23,
   "id": "69237afa",
   "metadata": {},
   "outputs": [],
   "source": [
    "y_true = df_y.iloc[yuce:yuce+n_pred_t,0]\n",
    "y_pred = y_pred4.iloc[:,0]\n",
    "\n",
    "df0 = pd.DataFrame([rmse(y_true,y_pred),mape(y_true,y_pred),mase(y_true,y_pred)],index = ['RMSE','MAPE','MASE'],columns = ['未组合'])"
   ]
  },
  {
   "cell_type": "code",
   "execution_count": 24,
   "id": "83e9a471",
   "metadata": {},
   "outputs": [],
   "source": [
    "y_true = df_y.iloc[yuce:yuce+n_pred_t,2]\n",
    "y_pred = y_pred4.iloc[:,2]\n",
    "\n",
    "df2 = pd.DataFrame([rmse(y_true,y_pred),mape(y_true,y_pred),mase(y_true,y_pred)],index = ['RMSE','MAPE','MASE'],columns = ['未组合'])"
   ]
  },
  {
   "cell_type": "code",
   "execution_count": 25,
   "id": "f03268dd",
   "metadata": {},
   "outputs": [],
   "source": [
    "# x1预测36-72\n",
    "y_pred14 = res1.forecast(len(df.iloc[begin:,]),exog=df.x1.iloc[begin:,])\n",
    "# x2预测60-72\n",
    "y_pred24 = res2.forecast(len(df.iloc[end:,]),exog=df.x2.iloc[end:,])"
   ]
  },
  {
   "cell_type": "code",
   "execution_count": 26,
   "id": "4b690cbb",
   "metadata": {},
   "outputs": [],
   "source": [
    "#mod1和mod2和mod3的OLS组合，300：450\n",
    "from sklearn.ensemble import RandomForestRegressor\n",
    "X_m1m2m3_0 = pd.concat([y_pred14['Japan差分'].loc[end:yuce-1],y_pred24['Japan差分'].loc[end:yuce-1],y_pred33['Japan差分'].loc[end:]],axis = 1)\n",
    "X_m1m2m3_0.columns = ['Japan_x1','Japan_x2','Japan_x3']\n",
    "\n",
    "regressor1 = RandomForestRegressor(n_estimators=20, random_state=0)\n",
    "regressor1.fit(X_m1m2m3_0, df_y['Japan差分'][end:yuce])\n",
    "# 预测\n",
    "X_m1m2m3_00 = pd.concat([y_pred14['Japan差分'].loc[yuce:yuce+n_pred_t-1],y_pred24['Japan差分'].loc[yuce:yuce+n_pred_t-1],y_pred4['Japan差分'].loc[yuce:yuce+n_pred_t-1]],axis = 1)\n",
    "X_m1m2m3_00.columns = ['Japan_x1','Japan_x2','Japan_x3']\n",
    "ypred0 = regressor1.predict(X_m1m2m3_00)\n",
    "\n",
    "\n",
    "X_m1m2m3_1 = pd.concat([y_pred14['Korea差分'].loc[end:yuce-1],y_pred24['Korea差分'].loc[end:yuce-1],y_pred33['Korea差分'].loc[end:]],axis = 1)\n",
    "X_m1m2m3_1.columns = ['Korea_x1','Korea_x2','Korea_x3']\n",
    "regressor2 = RandomForestRegressor(n_estimators=20, random_state=0)\n",
    "regressor2.fit(X_m1m2m3_1, df_y['Korea差分'][end:yuce])\n",
    "# 预测\n",
    "X_m1m2m3_11 = pd.concat([y_pred14['Korea差分'].loc[yuce:yuce+n_pred_t-1],y_pred24['Korea差分'].loc[yuce:yuce+n_pred_t-1],y_pred4['Korea差分'].loc[yuce:yuce+n_pred_t-1]],axis = 1)\n",
    "X_m1m2m3_11.columns = ['Korea_x1','Korea_x2','Korea_x3']\n",
    "ypred1 = regressor2.predict(X_m1m2m3_11)\n",
    "\n",
    "\n",
    "X_m1m2m3_2 = pd.concat([y_pred14['Singapore差分'].loc[end:yuce-1],y_pred24['Singapore差分'].loc[end:yuce-1],y_pred33['Singapore差分'].loc[end:]],axis = 1)\n",
    "X_m1m2m3_2.columns = ['Singapore_x1','Singapore_x2','Singapore_x3']\n",
    "regressor3 = RandomForestRegressor(n_estimators=20, random_state=0)\n",
    "regressor3.fit(X_m1m2m3_2, df_y['Singapore差分'][end:yuce])\n",
    "# 预测\n",
    "X_m1m2m3_22 = pd.concat([y_pred14['Singapore差分'].loc[yuce:yuce+n_pred_t-1],y_pred24['Singapore差分'].loc[yuce:yuce+n_pred_t-1],y_pred4['Singapore差分'].loc[yuce:yuce+n_pred_t-1]],axis = 1)\n",
    "X_m1m2m3_22.columns = ['Singapore_x1','Singapore_x2','Singapore_x3']\n",
    "ypred2 = regressor3.predict(X_m1m2m3_22)"
   ]
  },
  {
   "cell_type": "code",
   "execution_count": 27,
   "id": "f3f20a96",
   "metadata": {},
   "outputs": [],
   "source": [
    "y_true = df_y.iloc[yuce:yuce+n_pred_t,0].values\n",
    "y_pred = ypred0\n",
    "\n",
    "df0['组合123'] = [rmse(y_true,y_pred),mape(y_true,y_pred),mase(y_true,y_pred)]"
   ]
  },
  {
   "cell_type": "code",
   "execution_count": 28,
   "id": "9861a082",
   "metadata": {},
   "outputs": [],
   "source": [
    "y_true = df_y.iloc[yuce:yuce+n_pred_t,1].values\n",
    "y_pred = ypred1\n",
    "\n",
    "df1['组合123'] = [rmse(y_true,y_pred),mape(y_true,y_pred),mase(y_true,y_pred)]"
   ]
  },
  {
   "cell_type": "code",
   "execution_count": 29,
   "id": "9895ae8f",
   "metadata": {},
   "outputs": [],
   "source": [
    "y_true = df_y.iloc[yuce:yuce+n_pred_t,2].values\n",
    "y_pred = ypred2\n",
    "\n",
    "df2['组合123'] = [rmse(y_true,y_pred),mape(y_true,y_pred),mase(y_true,y_pred)]"
   ]
  },
  {
   "cell_type": "code",
   "execution_count": 30,
   "id": "268fec0c",
   "metadata": {},
   "outputs": [],
   "source": [
    "#mod2和mod3的OLS组合，300：450\n",
    "from sklearn.ensemble import RandomForestRegressor\n",
    "X_m1m2m3_0 = pd.concat([y_pred24['Japan差分'].loc[end:yuce-1],y_pred33['Japan差分'].loc[end:]],axis = 1)\n",
    "X_m1m2m3_0.columns = ['Japan_x2','Japan_x3']\n",
    "\n",
    "regressor1 = RandomForestRegressor(n_estimators=20, random_state=0)\n",
    "regressor1.fit(X_m1m2m3_0, df_y['Japan差分'][end:yuce])\n",
    "# 预测\n",
    "X_m1m2m3_00 = pd.concat([y_pred24['Japan差分'].loc[yuce:yuce+n_pred_t-1],y_pred4['Japan差分'].loc[yuce:yuce+n_pred_t-1]],axis = 1)\n",
    "X_m1m2m3_00.columns = ['Japan_x2','Japan_x3']\n",
    "ypred0 = regressor1.predict(X_m1m2m3_00)\n",
    "\n",
    "\n",
    "X_m1m2m3_1 = pd.concat([y_pred24['Korea差分'].loc[end:yuce-1],y_pred33['Korea差分'].loc[end:]],axis = 1)\n",
    "X_m1m2m3_1.columns = ['Korea_x2','Korea_x3']\n",
    "regressor2 = RandomForestRegressor(n_estimators=20, random_state=0)\n",
    "regressor2.fit(X_m1m2m3_1, df_y['Korea差分'][end:yuce])\n",
    "# 预测\n",
    "X_m1m2m3_11 = pd.concat([y_pred24['Korea差分'].loc[yuce:yuce+n_pred_t-1],y_pred4['Korea差分'].loc[yuce:yuce+n_pred_t-1]],axis = 1)\n",
    "X_m1m2m3_11.columns = ['Korea_x2','Korea_x3']\n",
    "ypred1 = regressor2.predict(X_m1m2m3_11)\n",
    "\n",
    "X_m1m2m3_2 = pd.concat([y_pred24['Singapore差分'].loc[end:yuce-1],y_pred33['Singapore差分'].loc[end:]],axis = 1)\n",
    "X_m1m2m3_2.columns = ['Singapore_x2','Singapore_x3']\n",
    "regressor3 = RandomForestRegressor(n_estimators=20, random_state=0)\n",
    "regressor3.fit(X_m1m2m3_2, df_y['Singapore差分'][end:yuce])\n",
    "# 预测\n",
    "X_m1m2m3_22 = pd.concat([y_pred24['Singapore差分'].loc[yuce:yuce+n_pred_t-1],y_pred4['Singapore差分'].loc[yuce:yuce+n_pred_t-1]],axis = 1)\n",
    "X_m1m2m3_22.columns = ['Singapore_x2','Singapore_x3']\n",
    "ypred2 = regressor3.predict(X_m1m2m3_22)"
   ]
  },
  {
   "cell_type": "code",
   "execution_count": 31,
   "id": "d9df22dd",
   "metadata": {},
   "outputs": [],
   "source": [
    "y_true = df_y.iloc[yuce:yuce+n_pred_t,0].values\n",
    "y_pred = ypred0\n",
    "\n",
    "df0['组合23'] = [rmse(y_true,y_pred),mape(y_true,y_pred),mase(y_true,y_pred)]"
   ]
  },
  {
   "cell_type": "code",
   "execution_count": 32,
   "id": "2b0b9dab",
   "metadata": {},
   "outputs": [],
   "source": [
    "y_true = df_y.iloc[yuce:yuce+n_pred_t,1].values\n",
    "y_pred = ypred1\n",
    "\n",
    "df1['组合23'] = [rmse(y_true,y_pred),mape(y_true,y_pred),mase(y_true,y_pred)]"
   ]
  },
  {
   "cell_type": "code",
   "execution_count": 33,
   "id": "cbbfefb0",
   "metadata": {},
   "outputs": [],
   "source": [
    "y_true = df_y.iloc[yuce:yuce+n_pred_t,2].values\n",
    "y_pred = ypred2\n",
    "\n",
    "df2['组合23'] = [rmse(y_true,y_pred),mape(y_true,y_pred),mase(y_true,y_pred)]"
   ]
  },
  {
   "cell_type": "code",
   "execution_count": 34,
   "id": "64f36e4d",
   "metadata": {},
   "outputs": [],
   "source": [
    "#mod1和mod3的OLS组合，300：450\n",
    "from sklearn.ensemble import RandomForestRegressor\n",
    "X_m1m2m3_0 = pd.concat([y_pred14['Japan差分'].loc[end:yuce-1],y_pred33['Japan差分'].loc[end:]],axis = 1)\n",
    "X_m1m2m3_0.columns = ['Japan_x1','Japan_x3']\n",
    "\n",
    "regressor1 = RandomForestRegressor(n_estimators=20, random_state=0)\n",
    "regressor1.fit(X_m1m2m3_0, df_y['Japan差分'][end:yuce])\n",
    "# 预测\n",
    "X_m1m2m3_00 = pd.concat([y_pred14['Japan差分'].loc[yuce:yuce+n_pred_t-1],y_pred4['Japan差分'].loc[yuce:yuce+n_pred_t-1]],axis = 1)\n",
    "X_m1m2m3_00.columns = ['Japan_x1','Japan_x3']\n",
    "ypred0 = regressor1.predict(X_m1m2m3_00)\n",
    "\n",
    "\n",
    "X_m1m2m3_1 = pd.concat([y_pred14['Korea差分'].loc[end:yuce-1],y_pred33['Korea差分'].loc[end:]],axis = 1)\n",
    "X_m1m2m3_1.columns = ['Korea_x1','Korea_x3']\n",
    "regressor2 = RandomForestRegressor(n_estimators=20, random_state=0)\n",
    "regressor2.fit(X_m1m2m3_1, df_y['Korea差分'][end:yuce])\n",
    "# 预测\n",
    "X_m1m2m3_11 = pd.concat([y_pred14['Korea差分'].loc[yuce:yuce+n_pred_t-1],y_pred4['Korea差分'].loc[yuce:yuce+n_pred_t-1]],axis = 1)\n",
    "X_m1m2m3_11.columns = ['Korea_x1','Korea_x3']\n",
    "ypred1 = regressor2.predict(X_m1m2m3_11)\n",
    "\n",
    "\n",
    "X_m1m2m3_2 = pd.concat([y_pred14['Singapore差分'].loc[end:yuce-1],y_pred33['Singapore差分'].loc[end:]],axis = 1)\n",
    "X_m1m2m3_2.columns = ['Singapore_x1','Singapore_x3']\n",
    "regressor3 = RandomForestRegressor(n_estimators=20, random_state=0)\n",
    "regressor3.fit(X_m1m2m3_2, df_y['Singapore差分'][end:yuce])\n",
    "# 预测\n",
    "X_m1m2m3_22 = pd.concat([y_pred14['Singapore差分'].loc[yuce:yuce+n_pred_t-1],y_pred4['Singapore差分'].loc[yuce:yuce+n_pred_t-1]],axis = 1)\n",
    "X_m1m2m3_22.columns = ['Singapore_x1','Singapore_x3']\n",
    "ypred2 = regressor3.predict(X_m1m2m3_22)"
   ]
  },
  {
   "cell_type": "code",
   "execution_count": 35,
   "id": "0d9e5ef7",
   "metadata": {},
   "outputs": [],
   "source": [
    "y_true = df_y.iloc[yuce:yuce+n_pred_t,0].values\n",
    "y_pred = ypred0\n",
    "\n",
    "df0['组合13'] = [rmse(y_true,y_pred),mape(y_true,y_pred),mase(y_true,y_pred)]"
   ]
  },
  {
   "cell_type": "code",
   "execution_count": 36,
   "id": "2a6f8adb",
   "metadata": {},
   "outputs": [],
   "source": [
    "y_true = df_y.iloc[yuce:yuce+n_pred_t,1].values\n",
    "y_pred = ypred1\n",
    "\n",
    "df1['组合13'] = [rmse(y_true,y_pred),mape(y_true,y_pred),mase(y_true,y_pred)]"
   ]
  },
  {
   "cell_type": "code",
   "execution_count": 37,
   "id": "8d595adb",
   "metadata": {},
   "outputs": [],
   "source": [
    "y_true = df_y.iloc[yuce:yuce+n_pred_t,2].values\n",
    "y_pred = ypred2\n",
    "\n",
    "df2['组合13'] = [rmse(y_true,y_pred),mape(y_true,y_pred),mase(y_true,y_pred)]"
   ]
  },
  {
   "cell_type": "code",
   "execution_count": 38,
   "id": "8d47e972",
   "metadata": {},
   "outputs": [],
   "source": [
    "#mod1和mod2，300：450\n",
    "from sklearn.ensemble import RandomForestRegressor\n",
    "X_m1m2m3_0 = pd.concat([y_pred14['Japan差分'].loc[end:yuce-1],y_pred24['Japan差分'].loc[end:yuce-1]],axis = 1)\n",
    "X_m1m2m3_0.columns = ['Japan_x1','Japan_x2']\n",
    "\n",
    "regressor1 = RandomForestRegressor(n_estimators=20, random_state=0)\n",
    "regressor1.fit(X_m1m2m3_0, df_y['Japan差分'][end:yuce])\n",
    "# 预测\n",
    "X_m1m2m3_00 = pd.concat([y_pred14['Japan差分'].loc[yuce:yuce+n_pred_t-1],y_pred24['Japan差分'].loc[yuce:yuce+n_pred_t-1]],axis = 1)\n",
    "X_m1m2m3_00.columns = ['Japan_x1','Japan_x2']\n",
    "ypred0 = regressor1.predict(X_m1m2m3_00)\n",
    "\n",
    "\n",
    "X_m1m2m3_1 = pd.concat([y_pred14['Korea差分'].loc[end:yuce-1],y_pred24['Korea差分'].loc[end:yuce-1]],axis = 1)\n",
    "X_m1m2m3_1.columns = ['Korea_x1','Korea_x2']\n",
    "regressor2 = RandomForestRegressor(n_estimators=20, random_state=0)\n",
    "regressor2.fit(X_m1m2m3_1, df_y['Korea差分'][end:yuce])\n",
    "# 预测\n",
    "X_m1m2m3_11 = pd.concat([y_pred14['Korea差分'].loc[yuce:yuce+n_pred_t-1],y_pred24['Korea差分'].loc[yuce:yuce+n_pred_t-1]],axis = 1)\n",
    "X_m1m2m3_11.columns = ['Korea_x1','Korea_x2']\n",
    "ypred1 = regressor2.predict(X_m1m2m3_11)\n",
    "\n",
    "\n",
    "X_m1m2m3_2 = pd.concat([y_pred14['Singapore差分'].loc[end:yuce-1],y_pred24['Singapore差分'].loc[end:yuce-1]],axis = 1)\n",
    "X_m1m2m3_2.columns = ['Singapore_x1','Singapore_x2']\n",
    "regressor3 = RandomForestRegressor(n_estimators=20, random_state=0)\n",
    "regressor3.fit(X_m1m2m3_2, df_y['Singapore差分'][end:yuce])\n",
    "# 预测\n",
    "X_m1m2m3_22 = pd.concat([y_pred14['Singapore差分'].loc[yuce:yuce+n_pred_t-1],y_pred24['Singapore差分'].loc[yuce:yuce+n_pred_t-1]],axis = 1)\n",
    "X_m1m2m3_22.columns = ['Singapore_x1','Singapore_x2']\n",
    "ypred2 = regressor3.predict(X_m1m2m3_22)"
   ]
  },
  {
   "cell_type": "code",
   "execution_count": 39,
   "id": "aff037e2",
   "metadata": {},
   "outputs": [],
   "source": [
    "y_true = df_y.iloc[yuce:yuce+n_pred_t,1].values\n",
    "y_pred = ypred1\n",
    "\n",
    "df1['组合12'] = [rmse(y_true,y_pred),mape(y_true,y_pred),mase(y_true,y_pred)]"
   ]
  },
  {
   "cell_type": "code",
   "execution_count": 40,
   "id": "a1008f8a",
   "metadata": {},
   "outputs": [],
   "source": [
    "y_true = df_y.iloc[yuce:yuce+n_pred_t,0].values\n",
    "y_pred = ypred0\n",
    "\n",
    "df0['组合12'] = [rmse(y_true,y_pred),mape(y_true,y_pred),mase(y_true,y_pred)]"
   ]
  },
  {
   "cell_type": "code",
   "execution_count": 41,
   "id": "6f9393f1",
   "metadata": {},
   "outputs": [],
   "source": [
    "y_true = df_y.iloc[yuce:yuce+n_pred_t,2].values\n",
    "y_pred = ypred2\n",
    "\n",
    "df2['组合12'] = [rmse(y_true,y_pred),mape(y_true,y_pred),mase(y_true,y_pred)]"
   ]
  },
  {
   "cell_type": "code",
   "execution_count": 42,
   "id": "f1df8e03",
   "metadata": {},
   "outputs": [],
   "source": [
    "# 如果不用组合，直接用x1x2x3呢"
   ]
  },
  {
   "cell_type": "code",
   "execution_count": 43,
   "id": "85c30992",
   "metadata": {},
   "outputs": [
    {
     "name": "stderr",
     "output_type": "stream",
     "text": [
      "D:\\Users\\Lenovo\\anaconda3\\lib\\site-packages\\statsmodels\\base\\model.py:604: ConvergenceWarning: Maximum Likelihood optimization failed to converge. Check mle_retvals\n",
      "  warnings.warn(\"Maximum Likelihood optimization failed to \"\n"
     ]
    }
   ],
   "source": [
    "mod4 = sm.tsa.VARMAX(df_y.iloc[end:yuce,], order=(1,0),exog=df.iloc[end:yuce,9:12])\n",
    "res4 = mod4.fit()\n",
    "y_pred5 = res4.forecast(n_pred_t,exog=df.iloc[yuce:yuce+n_pred_t,9:12])"
   ]
  },
  {
   "cell_type": "code",
   "execution_count": 44,
   "id": "06e33a9f",
   "metadata": {},
   "outputs": [],
   "source": [
    "y_true = df_y.iloc[yuce:yuce+n_pred_t,1].values\n",
    "y_pred = y_pred5.iloc[:,1].values\n",
    "\n",
    "df1['VAR_x1x2x3'] = [rmse(y_true,y_pred),mape(y_true,y_pred),mase(y_true,y_pred)]"
   ]
  },
  {
   "cell_type": "code",
   "execution_count": 45,
   "id": "a9577489",
   "metadata": {},
   "outputs": [],
   "source": [
    "y_true = df_y.iloc[yuce:yuce+n_pred_t,0].values\n",
    "y_pred = y_pred5.iloc[:,0].values\n",
    "\n",
    "df0['VAR_x1x2x3'] = [rmse(y_true,y_pred),mape(y_true,y_pred),mase(y_true,y_pred)]"
   ]
  },
  {
   "cell_type": "code",
   "execution_count": 46,
   "id": "352fef4c",
   "metadata": {},
   "outputs": [],
   "source": [
    "y_true = df_y.iloc[yuce:yuce+n_pred_t,2].values\n",
    "y_pred = y_pred5.iloc[:,2].values\n",
    "\n",
    "df2['VAR_x1x2x3'] = [rmse(y_true,y_pred),mape(y_true,y_pred),mase(y_true,y_pred)]"
   ]
  },
  {
   "cell_type": "code",
   "execution_count": 47,
   "id": "11038828",
   "metadata": {},
   "outputs": [],
   "source": [
    "# 如果用所有出境游，不分段呢"
   ]
  },
  {
   "cell_type": "code",
   "execution_count": 48,
   "id": "9a10bf86",
   "metadata": {},
   "outputs": [
    {
     "name": "stderr",
     "output_type": "stream",
     "text": [
      "D:\\Users\\Lenovo\\anaconda3\\lib\\site-packages\\statsmodels\\base\\model.py:604: ConvergenceWarning: Maximum Likelihood optimization failed to converge. Check mle_retvals\n",
      "  warnings.warn(\"Maximum Likelihood optimization failed to \"\n"
     ]
    }
   ],
   "source": [
    "mod5 = sm.tsa.VARMAX(df_y.iloc[0:yuce,], order=(1,0),exog=df.iloc[0:yuce,5])\n",
    "res5 = mod5.fit()\n",
    "y_pred6 = res5.forecast(n_pred_t,exog=df.iloc[yuce:yuce+n_pred_t,5])"
   ]
  },
  {
   "cell_type": "code",
   "execution_count": 49,
   "id": "82559803",
   "metadata": {},
   "outputs": [],
   "source": [
    "y_true = df_y.iloc[yuce:yuce+n_pred_t,0].values\n",
    "y_pred = y_pred6.iloc[:,0].values\n",
    "\n",
    "df0['VAR_出境游all'] = [rmse(y_true,y_pred),mape(y_true,y_pred),mase(y_true,y_pred)]"
   ]
  },
  {
   "cell_type": "code",
   "execution_count": 50,
   "id": "8dca182e",
   "metadata": {},
   "outputs": [],
   "source": [
    "y_true = df_y.iloc[yuce:yuce+n_pred_t,1].values\n",
    "y_pred = y_pred6.iloc[:,1].values\n",
    "\n",
    "df1['VAR_出境游all'] = [rmse(y_true,y_pred),mape(y_true,y_pred),mase(y_true,y_pred)]"
   ]
  },
  {
   "cell_type": "code",
   "execution_count": 51,
   "id": "75cf8c8b",
   "metadata": {},
   "outputs": [],
   "source": [
    "y_true = df_y.iloc[yuce:yuce+n_pred_t,2].values\n",
    "y_pred = y_pred6.iloc[:,2].values\n",
    "\n",
    "df2['VAR_出境游all'] = [rmse(y_true,y_pred),mape(y_true,y_pred),mase(y_true,y_pred)]"
   ]
  },
  {
   "cell_type": "markdown",
   "id": "ca5d8c94",
   "metadata": {},
   "source": [
    "# VAR"
   ]
  },
  {
   "cell_type": "code",
   "execution_count": 52,
   "id": "5dee7eb1",
   "metadata": {},
   "outputs": [],
   "source": [
    "model = VAR(df_y[0:yuce])\n",
    "model_fitted = model.fit(1)"
   ]
  },
  {
   "cell_type": "code",
   "execution_count": 53,
   "id": "1540e898",
   "metadata": {},
   "outputs": [
    {
     "data": {
      "text/html": [
       "<div>\n",
       "<style scoped>\n",
       "    .dataframe tbody tr th:only-of-type {\n",
       "        vertical-align: middle;\n",
       "    }\n",
       "\n",
       "    .dataframe tbody tr th {\n",
       "        vertical-align: top;\n",
       "    }\n",
       "\n",
       "    .dataframe thead th {\n",
       "        text-align: right;\n",
       "    }\n",
       "</style>\n",
       "<table border=\"1\" class=\"dataframe\">\n",
       "  <thead>\n",
       "    <tr style=\"text-align: right;\">\n",
       "      <th></th>\n",
       "      <th>Japan差分_2d</th>\n",
       "      <th>Korea差分_2d</th>\n",
       "      <th>Singapore差分_2d</th>\n",
       "    </tr>\n",
       "  </thead>\n",
       "  <tbody>\n",
       "    <tr>\n",
       "      <th>68</th>\n",
       "      <td>-0.013051</td>\n",
       "      <td>-0.021235</td>\n",
       "      <td>-0.039454</td>\n",
       "    </tr>\n",
       "    <tr>\n",
       "      <th>69</th>\n",
       "      <td>-0.022775</td>\n",
       "      <td>-0.036935</td>\n",
       "      <td>-0.027104</td>\n",
       "    </tr>\n",
       "    <tr>\n",
       "      <th>70</th>\n",
       "      <td>-0.025879</td>\n",
       "      <td>-0.037206</td>\n",
       "      <td>-0.031877</td>\n",
       "    </tr>\n",
       "    <tr>\n",
       "      <th>71</th>\n",
       "      <td>-0.025212</td>\n",
       "      <td>-0.037430</td>\n",
       "      <td>-0.031289</td>\n",
       "    </tr>\n",
       "    <tr>\n",
       "      <th>72</th>\n",
       "      <td>-0.025357</td>\n",
       "      <td>-0.037478</td>\n",
       "      <td>-0.031267</td>\n",
       "    </tr>\n",
       "  </tbody>\n",
       "</table>\n",
       "</div>"
      ],
      "text/plain": [
       "    Japan差分_2d  Korea差分_2d  Singapore差分_2d\n",
       "68   -0.013051   -0.021235       -0.039454\n",
       "69   -0.022775   -0.036935       -0.027104\n",
       "70   -0.025879   -0.037206       -0.031877\n",
       "71   -0.025212   -0.037430       -0.031289\n",
       "72   -0.025357   -0.037478       -0.031267"
      ]
     },
     "execution_count": 53,
     "metadata": {},
     "output_type": "execute_result"
    }
   ],
   "source": [
    "forecast_input = df_y[0:yuce].values\n",
    "# Forecast\n",
    "fc = model_fitted.forecast(y=forecast_input, steps=n_pred_t)\n",
    "df_forecast = pd.DataFrame(fc, index=df_y.index[yuce:yuce+n_pred_t], columns=df_y.columns + '_2d')\n",
    "df_forecast"
   ]
  },
  {
   "cell_type": "code",
   "execution_count": 54,
   "id": "4abcf5c9",
   "metadata": {},
   "outputs": [],
   "source": [
    "# 组合的rmse\n",
    "rmse(df_y.iloc[yuce:yuce+n_pred_t,0],df_forecast.loc[yuce:yuce+n_pred_t-1,'Japan差分_2d'])\n",
    "mape(df_y.iloc[yuce:yuce+n_pred_t,0],df_forecast.loc[yuce:yuce+n_pred_t-1,'Japan差分_2d'])\n",
    "mase(df_y.iloc[yuce:yuce+n_pred_t,0],df_forecast.loc[yuce:yuce+n_pred_t-1,'Japan差分_2d'])\n",
    "\n",
    "df0['VAR'] = [rmse(df_y.iloc[yuce:yuce+n_pred_t,0],df_forecast.loc[yuce:yuce+n_pred_t-1,'Japan差分_2d']),\n",
    "              mape(df_y.iloc[yuce:yuce+n_pred_t,0],df_forecast.loc[yuce:yuce+n_pred_t-1,'Japan差分_2d']),\n",
    "              mase(df_y.iloc[yuce:yuce+n_pred_t,0],df_forecast.loc[yuce:yuce+n_pred_t-1,'Japan差分_2d'])]"
   ]
  },
  {
   "cell_type": "code",
   "execution_count": 55,
   "id": "3e9c360a",
   "metadata": {},
   "outputs": [],
   "source": [
    "# 组合的rmse\n",
    "rmse(df_y.iloc[yuce:yuce+n_pred_t,0],df_forecast.loc[yuce:yuce+n_pred_t-1,'Korea差分_2d'])\n",
    "mape(df_y.iloc[yuce:yuce+n_pred_t,0],df_forecast.loc[yuce:yuce+n_pred_t-1,'Korea差分_2d'])\n",
    "mase(df_y.iloc[yuce:yuce+n_pred_t,0],df_forecast.loc[yuce:yuce+n_pred_t-1,'Korea差分_2d'])\n",
    "\n",
    "df1['VAR'] = [rmse(df_y.iloc[yuce:yuce+n_pred_t,0],df_forecast.loc[yuce:yuce+n_pred_t-1,'Korea差分_2d']),\n",
    "              mape(df_y.iloc[yuce:yuce+n_pred_t,0],df_forecast.loc[yuce:yuce+n_pred_t-1,'Korea差分_2d']),\n",
    "              mase(df_y.iloc[yuce:yuce+n_pred_t,0],df_forecast.loc[yuce:yuce+n_pred_t-1,'Korea差分_2d'])]"
   ]
  },
  {
   "cell_type": "code",
   "execution_count": 56,
   "id": "cdababc0",
   "metadata": {},
   "outputs": [],
   "source": [
    "# 组合的rmse\n",
    "rmse(df_y.iloc[yuce:yuce+n_pred_t,0],df_forecast.loc[yuce:yuce+n_pred_t-1,'Singapore差分_2d'])\n",
    "mape(df_y.iloc[yuce:yuce+n_pred_t,0],df_forecast.loc[yuce:yuce+n_pred_t-1,'Singapore差分_2d'])\n",
    "mase(df_y.iloc[yuce:yuce+n_pred_t,0],df_forecast.loc[yuce:yuce+n_pred_t-1,'Singapore差分_2d'])\n",
    "\n",
    "df2['VAR'] = [rmse(df_y.iloc[yuce:yuce+n_pred_t,0],df_forecast.loc[yuce:yuce+n_pred_t-1,'Singapore差分_2d']),\n",
    "              mape(df_y.iloc[yuce:yuce+n_pred_t,0],df_forecast.loc[yuce:yuce+n_pred_t-1,'Singapore差分_2d']),\n",
    "              mase(df_y.iloc[yuce:yuce+n_pred_t,0],df_forecast.loc[yuce:yuce+n_pred_t-1,'Singapore差分_2d'])]"
   ]
  },
  {
   "cell_type": "code",
   "execution_count": 57,
   "id": "f16f4d7a",
   "metadata": {},
   "outputs": [],
   "source": [
    "df0.columns = [\"VARX3\",\"组合123\",\"组合23\",\"组合13\",\"组合12\",\"VARX123\",\"VARX\",\"VAR\"]"
   ]
  },
  {
   "cell_type": "code",
   "execution_count": 58,
   "id": "ba28ad0e",
   "metadata": {},
   "outputs": [],
   "source": [
    "df1.columns = [\"VARX3\",\"组合123\",\"组合23\",\"组合13\",\"组合12\",\"VARX123\",\"VARX\",\"VAR\"]"
   ]
  },
  {
   "cell_type": "code",
   "execution_count": 59,
   "id": "b2b6a563",
   "metadata": {},
   "outputs": [],
   "source": [
    "df2.columns = [\"VARX3\",\"组合123\",\"组合23\",\"组合13\",\"组合12\",\"VARX123\",\"VARX\",\"VAR\"]"
   ]
  },
  {
   "cell_type": "code",
   "execution_count": 60,
   "id": "e6e61850",
   "metadata": {},
   "outputs": [
    {
     "data": {
      "text/html": [
       "<div>\n",
       "<style scoped>\n",
       "    .dataframe tbody tr th:only-of-type {\n",
       "        vertical-align: middle;\n",
       "    }\n",
       "\n",
       "    .dataframe tbody tr th {\n",
       "        vertical-align: top;\n",
       "    }\n",
       "\n",
       "    .dataframe thead th {\n",
       "        text-align: right;\n",
       "    }\n",
       "</style>\n",
       "<table border=\"1\" class=\"dataframe\">\n",
       "  <thead>\n",
       "    <tr style=\"text-align: right;\">\n",
       "      <th></th>\n",
       "      <th>RMSE</th>\n",
       "      <th>MAPE</th>\n",
       "      <th>MASE</th>\n",
       "      <th>RMSE</th>\n",
       "      <th>MAPE</th>\n",
       "      <th>MASE</th>\n",
       "      <th>RMSE</th>\n",
       "      <th>MAPE</th>\n",
       "      <th>MASE</th>\n",
       "    </tr>\n",
       "  </thead>\n",
       "  <tbody>\n",
       "    <tr>\n",
       "      <th>VAR</th>\n",
       "      <td>0.035885</td>\n",
       "      <td>5.601342</td>\n",
       "      <td>1.411579</td>\n",
       "      <td>0.046926</td>\n",
       "      <td>8.114949</td>\n",
       "      <td>1.909427</td>\n",
       "      <td>0.045290</td>\n",
       "      <td>7.159443</td>\n",
       "      <td>1.829687</td>\n",
       "    </tr>\n",
       "    <tr>\n",
       "      <th>VARX</th>\n",
       "      <td>0.047723</td>\n",
       "      <td>6.391578</td>\n",
       "      <td>1.648222</td>\n",
       "      <td>0.062096</td>\n",
       "      <td>5.886120</td>\n",
       "      <td>1.881266</td>\n",
       "      <td>0.035311</td>\n",
       "      <td>3.871319</td>\n",
       "      <td>1.924692</td>\n",
       "    </tr>\n",
       "    <tr>\n",
       "      <th>VARX3</th>\n",
       "      <td>0.021138</td>\n",
       "      <td>1.967811</td>\n",
       "      <td>0.804644</td>\n",
       "      <td>0.024592</td>\n",
       "      <td>3.135383</td>\n",
       "      <td>0.889570</td>\n",
       "      <td>0.036092</td>\n",
       "      <td>1.268839</td>\n",
       "      <td>1.506304</td>\n",
       "    </tr>\n",
       "    <tr>\n",
       "      <th>VARX123</th>\n",
       "      <td>0.044713</td>\n",
       "      <td>8.334617</td>\n",
       "      <td>1.742355</td>\n",
       "      <td>0.118558</td>\n",
       "      <td>14.175610</td>\n",
       "      <td>4.670397</td>\n",
       "      <td>0.035267</td>\n",
       "      <td>4.286332</td>\n",
       "      <td>2.043572</td>\n",
       "    </tr>\n",
       "    <tr>\n",
       "      <th>组合123</th>\n",
       "      <td>0.009334</td>\n",
       "      <td>0.743425</td>\n",
       "      <td>0.278294</td>\n",
       "      <td>0.016373</td>\n",
       "      <td>1.292657</td>\n",
       "      <td>0.525408</td>\n",
       "      <td>0.029769</td>\n",
       "      <td>0.995147</td>\n",
       "      <td>1.272376</td>\n",
       "    </tr>\n",
       "    <tr>\n",
       "      <th>组合12</th>\n",
       "      <td>0.013944</td>\n",
       "      <td>2.325306</td>\n",
       "      <td>0.506096</td>\n",
       "      <td>0.018686</td>\n",
       "      <td>1.897917</td>\n",
       "      <td>0.635762</td>\n",
       "      <td>0.023785</td>\n",
       "      <td>1.297941</td>\n",
       "      <td>1.125216</td>\n",
       "    </tr>\n",
       "    <tr>\n",
       "      <th>组合13</th>\n",
       "      <td>0.010740</td>\n",
       "      <td>1.134112</td>\n",
       "      <td>0.344269</td>\n",
       "      <td>0.019448</td>\n",
       "      <td>1.362683</td>\n",
       "      <td>0.621356</td>\n",
       "      <td>0.028160</td>\n",
       "      <td>1.706222</td>\n",
       "      <td>1.419662</td>\n",
       "    </tr>\n",
       "    <tr>\n",
       "      <th>组合23</th>\n",
       "      <td>0.013085</td>\n",
       "      <td>1.482091</td>\n",
       "      <td>0.459218</td>\n",
       "      <td>0.020757</td>\n",
       "      <td>1.709878</td>\n",
       "      <td>0.695066</td>\n",
       "      <td>0.031684</td>\n",
       "      <td>1.113442</td>\n",
       "      <td>1.410923</td>\n",
       "    </tr>\n",
       "  </tbody>\n",
       "</table>\n",
       "</div>"
      ],
      "text/plain": [
       "             RMSE      MAPE      MASE      RMSE       MAPE      MASE  \\\n",
       "VAR      0.035885  5.601342  1.411579  0.046926   8.114949  1.909427   \n",
       "VARX     0.047723  6.391578  1.648222  0.062096   5.886120  1.881266   \n",
       "VARX3    0.021138  1.967811  0.804644  0.024592   3.135383  0.889570   \n",
       "VARX123  0.044713  8.334617  1.742355  0.118558  14.175610  4.670397   \n",
       "组合123    0.009334  0.743425  0.278294  0.016373   1.292657  0.525408   \n",
       "组合12     0.013944  2.325306  0.506096  0.018686   1.897917  0.635762   \n",
       "组合13     0.010740  1.134112  0.344269  0.019448   1.362683  0.621356   \n",
       "组合23     0.013085  1.482091  0.459218  0.020757   1.709878  0.695066   \n",
       "\n",
       "             RMSE      MAPE      MASE  \n",
       "VAR      0.045290  7.159443  1.829687  \n",
       "VARX     0.035311  3.871319  1.924692  \n",
       "VARX3    0.036092  1.268839  1.506304  \n",
       "VARX123  0.035267  4.286332  2.043572  \n",
       "组合123    0.029769  0.995147  1.272376  \n",
       "组合12     0.023785  1.297941  1.125216  \n",
       "组合13     0.028160  1.706222  1.419662  \n",
       "组合23     0.031684  1.113442  1.410923  "
      ]
     },
     "execution_count": 60,
     "metadata": {},
     "output_type": "execute_result"
    }
   ],
   "source": [
    "r = pd.concat([df0,df1,df2])\n",
    "r[['VAR','VARX','VARX3','VARX123','组合123','组合12','组合13','组合23']].T"
   ]
  },
  {
   "cell_type": "code",
   "execution_count": null,
   "id": "9f251765",
   "metadata": {},
   "outputs": [],
   "source": []
  }
 ],
 "metadata": {
  "hide_input": false,
  "kernelspec": {
   "display_name": "Python 3 (ipykernel)",
   "language": "python",
   "name": "python3"
  },
  "language_info": {
   "codemirror_mode": {
    "name": "ipython",
    "version": 3
   },
   "file_extension": ".py",
   "mimetype": "text/x-python",
   "name": "python",
   "nbconvert_exporter": "python",
   "pygments_lexer": "ipython3",
   "version": "3.12.3"
  },
  "toc": {
   "base_numbering": 1,
   "nav_menu": {},
   "number_sections": true,
   "sideBar": true,
   "skip_h1_title": false,
   "title_cell": "Table of Contents",
   "title_sidebar": "Contents",
   "toc_cell": false,
   "toc_position": {},
   "toc_section_display": true,
   "toc_window_display": false
  },
  "varInspector": {
   "cols": {
    "lenName": 16,
    "lenType": 16,
    "lenVar": 40
   },
   "kernels_config": {
    "python": {
     "delete_cmd_postfix": "",
     "delete_cmd_prefix": "del ",
     "library": "var_list.py",
     "varRefreshCmd": "print(var_dic_list())"
    },
    "r": {
     "delete_cmd_postfix": ") ",
     "delete_cmd_prefix": "rm(",
     "library": "var_list.r",
     "varRefreshCmd": "cat(var_dic_list()) "
    }
   },
   "types_to_exclude": [
    "module",
    "function",
    "builtin_function_or_method",
    "instance",
    "_Feature"
   ],
   "window_display": false
  }
 },
 "nbformat": 4,
 "nbformat_minor": 5
}
